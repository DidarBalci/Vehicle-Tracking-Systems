{
 "cells": [
  {
   "cell_type": "code",
   "execution_count": 12,
   "id": "2bf9ed2f",
   "metadata": {},
   "outputs": [],
   "source": [
    "from geopy.distance import geodesic\n",
    "import folium"
   ]
  },
  {
   "cell_type": "code",
   "execution_count": 16,
   "id": "e29e4ea1",
   "metadata": {},
   "outputs": [],
   "source": [
    "# Örnek koordinat noktaları belirlenir\n",
    "coordinates = {\n",
    "    \"Anıtkabir, Ankara\": (39.9344, 32.8539),\n",
    "    \"Atakule, Ankara\": (39.9334, 32.8597),\n",
    "    \"Gazi Tıp Fakültesi, Ankara\": (39.9201, 32.8540),\n",
    "    \"Kuğulu Park, Ankara\": (39.9271, 32.8527),\n",
    "    \"Tunalı Hilmi Caddesi, Ankara\": (39.9005, 32.8604),\n",
    "    \"Kızılay Meydanı, Ankara\": (39.9334, 32.8575),\n",
    "    \"Beşevler, Ankara\": (39.9327, 32.8597),\n",
    "    \"Ankara Esenboğa Havalimanı\": (40.1098, 32.9924),\n",
    "    \"AŞTİ Otogar, Ankara\": (40.0805, 32.6548),\n",
    "    \"Çayyolu, Ankara\": (39.8786, 32.6673),\n",
    "    \"Gölbaşı, Ankara\": (39.9230, 32.8499),\n",
    "    \"İncek, Ankara\": (39.8742, 32.8080),\n",
    "    \"Bilkent Üniversitesi, Ankara\": (40.1140, 32.6825),\n",
    "    \"ODTÜ, Ankara\": (39.8917, 32.7471)\n",
    "}\n"
   ]
  },
  {
   "cell_type": "code",
   "execution_count": 18,
   "id": "58474138",
   "metadata": {},
   "outputs": [],
   "source": [
    "# Güzergah belirlemek için konum ve günler tanımlandı.\n",
    "routes = [\n",
    "    (\"Anıtkabir, Ankara\", \"Atakule, Ankara\", \"Pazartesi\"),\n",
    "    (\"Gazi Tıp Fakültesi, Ankara\", \"Kuğulu Park, Ankara\", \"Salı\"),\n",
    "    (\"Tunalı Hilmi Caddesi, Ankara\", \"Kızılay Meydanı, Ankara\", \"Çarşamba\"),\n",
    "    (\"Beşevler, Ankara\", \"Ankara Esenboğa Havalimanı\", \"Perşembe\"),\n",
    "    (\"AŞTİ Otogar, Ankara\", \"Çayyolu, Ankara\", \"Cuma\"),\n",
    "    (\"Gölbaşı, Ankara\", \"İncek, Ankara\", \"Cumartesi\"),\n",
    "    (\"Bilkent Üniversitesi, Ankara\", \"ODTÜ, Ankara\", \"Pazar\") ]"
   ]
  },
  {
   "cell_type": "code",
   "execution_count": 19,
   "id": "6c17ca59",
   "metadata": {},
   "outputs": [],
   "source": [
    "# Günlük yakıt maliyeti ve kilometre hesabı için tanımlanan distance ve cost değişkenleri for döngüsü içinde tanımlandı. \n",
    "#Öncelikle coordinates veri setinden başlangıç ve bitiş noktası atandıktan sonra bu iki nokta arası mesafe kilometre cinsinden hesaplandı. \n",
    "#Daha sonra bu kilometreler arası yakıt maliyeti kilometre sayısı arttıkça varsayılan yakıt maliyeti ile for döngüsü içinde çarpıldı. \n",
    "total_distance = 0\n",
    "total_cost = 0\n",
    "for start, end, day in routes:\n",
    "    start_coord = coordinates[start]\n",
    "    end_coord = coordinates[end]\n",
    "    distance = geodesic(start_coord, end_coord).kilometers\n",
    "    cost = distance * 0.2  # Varsayılan yakıt maliyeti (örnek olarak 0.2 TL/km)\n",
    "    total_distance += distance\n",
    "    total_cost += cost"
   ]
  },
  {
   "cell_type": "code",
   "execution_count": 20,
   "id": "656f02b3",
   "metadata": {},
   "outputs": [
    {
     "name": "stdout",
     "output_type": "stream",
     "text": [
      "Toplam Kat Edilen Kilometre: 81.87967523767762 km\n",
      "Toplam Yakıt Maliyeti: 16.375935047535528 TL\n"
     ]
    }
   ],
   "source": [
    "# Toplam kilometre ve yakıt maliyetini ekrana yazdırıldı.\n",
    "print(f\"Toplam Kat Edilen Kilometre: {total_distance} km\")\n",
    "print(f\"Toplam Yakıt Maliyeti: {total_cost} TL\")\n"
   ]
  },
  {
   "cell_type": "code",
   "execution_count": 21,
   "id": "a22ab58c",
   "metadata": {},
   "outputs": [],
   "source": [
    "# Yol haritası görselleştirilmesi için folium lib kullanıldı.\n",
    "map_center = (39.9334, 32.8597)  # Ankara'nın koordinatları\n",
    "m = folium.Map(location=map_center, zoom_start=12)"
   ]
  },
  {
   "cell_type": "code",
   "execution_count": 29,
   "id": "b18928ac",
   "metadata": {},
   "outputs": [],
   "source": [
    "# Harita görselleştirme simgeleri seçildi.\n",
    "for start, end, day in routes:\n",
    "    start_coord = coordinates[start]\n",
    "    end_coord = coordinates[end]\n",
    "    folium.PolyLine(locations=[start_coord, end_coord], color=\"red\", weight=5, opacity=0.7).add_to(m)\n",
    "    folium.Marker(location=start_coord, icon=folium.Icon(icon=\"star\")).add_to(m)\n",
    "    folium.Marker(location=end_coord, icon=folium.Icon(icon=\"star\")).add_to(m)"
   ]
  },
  {
   "cell_type": "code",
   "execution_count": 30,
   "id": "97cd0e70",
   "metadata": {},
   "outputs": [
    {
     "name": "stdout",
     "output_type": "stream",
     "text": [
      "Yol haritası başarıyla oluşturuldu ve 'ankara_yol_haritasi.html' adıyla kaydedildi.\n"
     ]
    }
   ],
   "source": [
    "# Harita html olarak kaydedildi. \n",
    "m.save(\"ankara_yol_haritasi.html\")\n",
    "\n",
    "print(\"Yol haritası başarıyla oluşturuldu ve 'ankara_yol_haritasi.html' adıyla kaydedildi.\")"
   ]
  },
  {
   "cell_type": "code",
   "execution_count": null,
   "id": "a5515622",
   "metadata": {},
   "outputs": [],
   "source": []
  }
 ],
 "metadata": {
  "kernelspec": {
   "display_name": "Python 3 (ipykernel)",
   "language": "python",
   "name": "python3"
  },
  "language_info": {
   "codemirror_mode": {
    "name": "ipython",
    "version": 3
   },
   "file_extension": ".py",
   "mimetype": "text/x-python",
   "name": "python",
   "nbconvert_exporter": "python",
   "pygments_lexer": "ipython3",
   "version": "3.11.3"
  }
 },
 "nbformat": 4,
 "nbformat_minor": 5
}
